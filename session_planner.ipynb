{
 "cells": [
  {
   "cell_type": "markdown",
   "metadata": {},
   "source": [
    "# Session assignments\n",
    "Interactively determines the assignments of presentations to sessions."
   ]
  },
  {
   "cell_type": "markdown",
   "metadata": {},
   "source": [
    "## Paths and parameters"
   ]
  },
  {
   "cell_type": "code",
   "execution_count": 1,
   "metadata": {},
   "outputs": [],
   "source": [
    "# Division to analyze \n",
    "division = 'dcb_dvm'\n",
    "\n",
    "# Presentations ('talks' or 'posters')\n",
    "presentation_type = 'talks'\n",
    "\n",
    "# Minimum and maximum number of presentations per session\n",
    "min_size = 6\n",
    "max_size = 8\n",
    "\n",
    "# Import outside packages\n",
    "import os, sys\n",
    "import pandas as pd\n",
    "\n",
    "# Mount Google Drive, if running on Google Colab\n",
    "if 'COLAB_GPU' in os.environ:\n",
    "    # Mount Google Drive\n",
    "    from google.colab import drive\n",
    "    drive.mount('/content/drive')\n",
    "\n",
    "    # Set the data root to a Google Drive folder\n",
    "    data_root = '/content/drive/MyDrive/meeting_planning_2024/' + division \n",
    "    code_root = '/content/drive/MyDrive/Colab Notebooks/conference_planner'\n",
    "\n",
    "    # Add code to path\n",
    "    sys.path.append(code_root)\n",
    "\n",
    "# If running locally, set the data root\n",
    "else:\n",
    "    # Set paths\n",
    "    code_root = '/Users/mmchenry/Documents/code/conference_planner'\n",
    "    data_root = '/Users/mmchenry/Documents/Projects/meeting_planner_test/division_files/' + division\n",
    "\n",
    "# Custom packages\n",
    "import make_sessions as ms\n",
    "import compile_program as cp\n",
    "\n",
    "# Load abstract data for presentation type\n",
    "in_path = os.path.join(data_root,  presentation_type + '_ratings.csv')\n",
    "df = pd.read_csv(in_path)\n",
    "\n",
    "# Clear out any previous assignments and save a copy of the original data\n",
    "df['session_num']   = None\n",
    "df['talk_num']      = None\n",
    "df['major_group']   = None\n",
    "df.to_csv(os.path.join(data_root,  presentation_type + '_ratings.csv'), index=False)\n",
    "\n",
    "# Adjust table display setting \n",
    "pd.set_option('display.max_colwidth', None)\n"
   ]
  },
  {
   "cell_type": "markdown",
   "metadata": {},
   "source": [
    "# Hierarchical clustering\n",
    "Creates a phylogeny (i.e., dendrogram) of relationships between talks and defines the major branches, using a distance threshold. \n",
    "\n",
    "Note that the weightings of each keyword, defined in keyword_weights.xlsx, is critical in defining which keywords will be used for the major branches. \n",
    "In particular, the 'weight_clustering' column values are multiplied by the keyword ratings from GPT. \n",
    "\n",
    "Any zero weighting values are excluded from consideration in determining the major branches.\n",
    "It is a good idea at this stage to zero out any keywords that are non-essential in differentiating major categories of talks.\n"
   ]
  },
  {
   "cell_type": "code",
   "execution_count": 1,
   "metadata": {},
   "outputs": [
    {
     "name": "stderr",
     "output_type": "stream",
     "text": [
      "Traceback (most recent call last):\n",
      "  File \"_pydevd_bundle/pydevd_cython.pyx\", line 577, in _pydevd_bundle.pydevd_cython.PyDBFrame._handle_exception\n",
      "  File \"_pydevd_bundle/pydevd_cython.pyx\", line 312, in _pydevd_bundle.pydevd_cython.PyDBFrame.do_wait_suspend\n",
      "  File \"/Users/mmchenry/miniforge3/envs/sicb/lib/python3.11/site-packages/debugpy/_vendored/pydevd/pydevd.py\", line 2070, in do_wait_suspend\n",
      "    keep_suspended = self._do_wait_suspend(thread, frame, event, arg, suspend_type, from_this_thread, frames_tracker)\n",
      "                     ^^^^^^^^^^^^^^^^^^^^^^^^^^^^^^^^^^^^^^^^^^^^^^^^^^^^^^^^^^^^^^^^^^^^^^^^^^^^^^^^^^^^^^^^^^^^^^^^\n",
      "  File \"/Users/mmchenry/miniforge3/envs/sicb/lib/python3.11/site-packages/debugpy/_vendored/pydevd/pydevd.py\", line 2106, in _do_wait_suspend\n",
      "    time.sleep(0.01)\n",
      "KeyboardInterrupt\n"
     ]
    },
    {
     "ename": "NameError",
     "evalue": "name 'pd' is not defined",
     "output_type": "error",
     "traceback": [
      "\u001b[0;31m---------------------------------------------------------------------------\u001b[0m",
      "\u001b[0;31mNameError\u001b[0m                                 Traceback (most recent call last)",
      "Cell \u001b[0;32mIn[1], line 2\u001b[0m\n\u001b[1;32m      1\u001b[0m \u001b[38;5;66;03m# Load keyword weights\u001b[39;00m\n\u001b[0;32m----> 2\u001b[0m df_weights \u001b[38;5;241m=\u001b[39m pd\u001b[38;5;241m.\u001b[39mread_excel(os\u001b[38;5;241m.\u001b[39mpath\u001b[38;5;241m.\u001b[39mjoin(data_root, \u001b[38;5;124m'\u001b[39m\u001b[38;5;124mkeyword_weights.xlsx\u001b[39m\u001b[38;5;124m'\u001b[39m))\n\u001b[1;32m      4\u001b[0m \u001b[38;5;66;03m# Run initial clustering\u001b[39;00m\n\u001b[1;32m      5\u001b[0m df, distance_threshold \u001b[38;5;241m=\u001b[39m ms\u001b[38;5;241m.\u001b[39mrun_hierarchical(df, df_weights, min_size\u001b[38;5;241m=\u001b[39m\u001b[38;5;241m16\u001b[39m)\n",
      "\u001b[0;31mNameError\u001b[0m: name 'pd' is not defined"
     ]
    }
   ],
   "source": [
    "# Run initial clustering\n",
    "df, distance_threshold = ms.run_hierarchical(data_root, data_type='similarity', presentation_type=presentation_type, min_size=16)\n",
    "\n",
    "# Summarize the major keywords for each branch\n",
    "branch_summ = ms.summarize_branch_keywords(df, df_weights, num_keywords=9)\n",
    "\n",
    "# Plot dendrogram\n",
    "ms.plot_dendrogram(df, df_weights, distance_threshold)\n",
    "\n",
    "# Make complete dataframe for the division\n",
    "df_full = cp.merge_dataframes(df, data_root)\n",
    "\n",
    "# Output divisional schedule to html\n",
    "cp.list_branches_html(df_full, data_root, presentation_type, branch_summ, include_summary=True)"
   ]
  },
  {
   "cell_type": "markdown",
   "metadata": {},
   "source": [
    "## Session making (i.e., sequencing)\n",
    "Finally, each branch is divided into sessions of 6-8 talks that are in an optimal order by their keyword ratings.\n",
    "\n",
    "This stage, called sequencing, ignores all keywords that were used for hierarchical clustering (i.e., where weight_clustering are non-zero).\n",
    "The weightings of the remaining keywords are specified in the 'weight_sequencing' column in keyword_weights.xlsx."
   ]
  },
  {
   "cell_type": "code",
   "execution_count": null,
   "metadata": {},
   "outputs": [],
   "source": [
    "# Load keyword weights\n",
    "df_weights = pd.read_excel(os.path.join(data_root, 'keyword_weights.xlsx'))\n",
    "\n",
    "# Create sessions of talks that are similar to each other\n",
    "df = ms.process_each_branch(df, df_weights, min_size=min_size, max_size=max_size, echo=True)\n",
    "\n",
    "# Make complete dataframe for the division that includes session numbers\n",
    "df_full = cp.merge_dataframes(df, data_root)"
   ]
  },
  {
   "cell_type": "markdown",
   "metadata": {},
   "source": [
    "## Render the schedule in html"
   ]
  },
  {
   "cell_type": "code",
   "execution_count": 3,
   "metadata": {},
   "outputs": [
    {
     "name": "stdout",
     "output_type": "stream",
     "text": [
      "Schedule written to /Users/mmchenry/Documents/Projects/meeting_planner_test/division_files/dcb_dvm/talks.html\n",
      "Copy and paste path into a web browser\n"
     ]
    }
   ],
   "source": [
    "# Output divisional schedule to html\n",
    "cp.render_div_schedule_html(df_full, df, df_weights, data_root, presentation_type, include_summary=False, num_ratings=8, include_ratings=True)"
   ]
  }
 ],
 "metadata": {
  "kernelspec": {
   "display_name": "Python 3",
   "language": "python",
   "name": "python3"
  },
  "language_info": {
   "codemirror_mode": {
    "name": "ipython",
    "version": 3
   },
   "file_extension": ".py",
   "mimetype": "text/x-python",
   "name": "python",
   "nbconvert_exporter": "python",
   "pygments_lexer": "ipython3",
   "version": "3.11.0"
  }
 },
 "nbformat": 4,
 "nbformat_minor": 2
}
